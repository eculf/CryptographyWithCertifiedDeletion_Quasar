{
 "cells": [
  {
   "cell_type": "markdown",
   "metadata": {},
   "source": [
    "## Cryptography with Certified Deletion\n",
    "\n",
    "### by Eric Culf, Sohrab Ganjian and Peter Yuen"
   ]
  },
  {
   "cell_type": "markdown",
   "metadata": {},
   "source": [
    "In this project, we will explore cryptography with certified deletion, its applications and implentation. Our work follows the work of James Bartusek and Dakshita Khurana. The original paper can be found here:\n",
    "\n",
    "[arxiv.org/pdf/2207.01754.pdf](https://arxiv.org/pdf/2207.01754.pdf)\n",
    "\n",
    "This work is inspired by a paper from Anne Broadbent and Rabib Islam: \n",
    "\n",
    "[arxiv.org/pdf/1910.03551.pdf](https://arxiv.org/pdf/1910.03551.pdf)"
   ]
  },
  {
   "cell_type": "markdown",
   "metadata": {},
   "source": [
    "So what is certified deletion and why is it important? To answer this question, suppose that Alice has written her will and would like to share her will with lawyer Bob, whom is going to store the will in a safebox. There are two scenarios to consider here:\n",
    "\n",
    "<ol>\n",
    "  <li>Upon the unfortunate passing away of Alice, Bob would reveal the content of the will.</li>\n",
    "  <li>Prior to her passing, Alice chooses to invalidate her current will and requests that it be permanently deleted. While she may or may not revise the will's content, she wants Bob to furnish a valid certificate attesting to the proper deletion of her old will.</li>\n",
    "</ol>\n",
    "\n",
    "If Alice decides to delete her will, how can Bob provide a certifcate such that it is verfiable by Alice that Bob has acted in an honest manner? As it turns out, classical information can be easily copied, and there is no guarantee that the information has been removed. However, thanks to quantum cryptography, one can provide a valid certificate of deletion upon request which can be verified. Note that in this context, Alice's will would either be revealed or deleted, but not both. \n",
    "\n",
    "Of course, this is just one application of certified deletion, which has many more use cases. Below, we provide a few additional examples:\n",
    "\n",
    " - <b>Confidential business information:</b> A company might want to share confidential information with a partner or investor, but only if certain conditions are met. For example, they might want to ensure that the information is not shared with competitors or used for unauthorized purposes. In this case, the company could encrypt the information and give the key to a trusted third party who will only release it if the partner or investor agrees to certain terms and conditions.: \n",
    " - <b>Classified information:</b> Government agencies and military organizations often use encryption to protect classified information. A trusted third party could hold the decryption key and only release it if certain conditions are met, such as a security breach or the need for a specific operation.\n",
    " \n",
    "As you can see, certified deletion has significant implications for privacy in various settings.\n",
    "\n",
    "In this project, we will provide an implementation of this idea with a small example. "
   ]
  },
  {
   "cell_type": "markdown",
   "metadata": {},
   "source": [
    "Now that we know what is certified deletion, let us see how can one implement this in practice:"
   ]
  },
  {
   "cell_type": "markdown",
   "metadata": {},
   "source": [
    "The main result that we are using from the paper is in Corollary 4.8, which we mention here for reference, and then we will explain what this means:"
   ]
  },
  {
   "cell_type": "markdown",
   "metadata": {},
   "source": [
    "Given any post-quantum semantically-secure public-key encryptin scheme $\\text{PKE}=(\\text{Gen, Enc, Dec})$, the scheme $\\text{CD-PKE = (Gen, Enc', Dec', Del, Ver)}$ defined as follows is a public-key encryption scheme with certified deletion.\n",
    "\n",
    "<ul>\n",
    "  <li>$\\text{Enc'(pk,m)}:$ sample $x, \\theta \\leftarrow \\{0,1\\}^{\\lambda}$ and output\n",
    "    $$\\text{ct} \\mathrel{:}= \\left( |x\\rangle_\\theta, \\text{Enc} \\left( pk, \\left(\\theta, b \\oplus \\bigoplus_{i:\\theta_i = 0} x_i \\right) \\right) \\right)$$\n",
    "      $$\\text{vk} := (x, \\theta)$$\n",
    "    </li>\n",
    "  <li>$\\text{Dec'(sk,ct)}:$\n",
    "parse $ct:=(|x\\rangle_\\theta, ct')$, compute ($\\theta, b') \\leftarrow \\text{Dec(sk,ct')}$, measure $|x\\rangle_\\theta$ in the $\\theta$-basis to obtain $x$, and output $b = b' \\oplus \\bigoplus_{i:\\theta_i=0} x_i$</li>\n",
    "    \n",
    "    \n",
    "  <li>$\\text{Del(ct)}:$ parse $\\text{ct}:= (|x \\rangle_\\theta, \\text{ct'})$ and measure $|x\\rangle_\\theta$ in the Hadamard basis to obtain a string $x'$, and output $\\text{cert}:=x'$</li>\n",
    "    <li>$\\text{Ver(vk, cert)}:$ parse $\\text{vk}$ as $(x, \\theta)$ and $\\text{cert}$ as $x'$ and output $\\text{T}$ if and only if $x_i = x_i'$ for all $i$ such that $\\theta_i = 1$.  </li>\n",
    "</ul>"
   ]
  },
  {
   "cell_type": "markdown",
   "metadata": {},
   "source": [
    "<b> Explantion: </b>"
   ]
  },
  {
   "cell_type": "markdown",
   "metadata": {},
   "source": [
    "A post-quantum cryptosystem refers to cryptosystems that are cryptographically secure against an adversary even with quantum resources. As Peter Shor demonstrated in [his paper](https://arxiv.org/pdf/quant-ph/9508027.pdf), quantum computers are capable of solving number-theoretic problems efficiently. Since then, cryptographers have been looking into developing new protocols that rely on problmes that are also computationally difficult for a quantum computer. \n",
    "\n",
    "A semantically-secure cryptosystem allows for the possibility that negligible information can be extracted from a ciphertext. While this may not sound perfect, for all real-life applications this is a reasonable assumption to make about a cryptosystem. \n",
    "\n",
    "$\\text{PKE}$ stands for Public-key Encryption, which takes as input three parameters $\\text{Gen, Enc, Dec}$\n",
    "\n",
    "$\\text{Gen}$ refers to the key generation algorithm. The key generation algorithm Gen takes a security paramter $\\lambda$ as input and outputs a pair of keys $\\text{(pk, sk)}$. The security parameter $\\lambda$ is usually used to determine the length of the public and secret keys, as well as the number of random bits used by the encryption algorithm $\\text{Enc}$. The exact values of these parameters may depend on the specific encryption scheme and the desired level of security. The public key $\\text{pk}$ is used for encryption, while the secret key $\\text{sk}$ is used for decryption.\n",
    "\n",
    "$\\text{Enc}$ is the encryption algorithm that takes as input a public key $\\text{pk}$, which is generated be $\\text{Gen}$, and a plaintext $m$ that we would like to encrypt. The output of this algorithm is a ciphertext, or the encrypted message, which is denoted by $\\text{ct}$. \n",
    "\n",
    "$\\text{Dec}$ is the decryption algorithm that takes as input a secret key $\\text{sk}$, which is again generated by the $\\text{Gen}$, and a ciphertext $\\text{ct}$. The output of the algorithm is a plaintext $m'$. $m=m'$ with negligible probability, which means that the probability of the decryption algorithm producing an incorrect output, given a valid ciphertext and the correct secret key, is extremely small. \n",
    "\n",
    "$\\text{CD-PKE}$ is the public-key encryption scheme with certified deletion, which takes as input $\\text{(Gen, Enc', Dec', Del, Ver)}$. As we we will see, this encryption scheme is using the encyprtion scheme $\\text{PKE(Gen, Enc, Dec)}$ as a foundational component.\n",
    "\n",
    "The $\\text{Gen}$ algorithm in CD-PKE is the same $\\text{Gen}$ algorithm as in $\\text{PKE}$. \n",
    "\n",
    "$\\text{Enc'}$ works as follows: \n",
    "\n",
    "it takes a public key $\\text{pk}$ and a message $m$ as input. Given $\\lambda$ in $\\text{Gen}$, the algorithm samples $x, \\theta$ binary strings of length $\\lambda$ uniformly at random. The algorithm then outputs a ciphertext $\\text{ct}$ and a verification key $\\text{vk}$.\n",
    "\n",
    "The ciphertext is a quantum state represented by an ordered pair consisting of $|x\\rangle_\\theta$, and the output of the $\\text{Enc}$ algorithm from a public-key encryption scheme. The $\\text{Enc}$ algorithm takes as input the public key $\\text{pk}$ and a plaintext that is the concatenation of $\\theta$ and the result of XORing $b$ with the XOR of the binary string of $x$ where the corresponding bit of $\\theta$ is 0.\n",
    "\n",
    "The verification key is defined as the concatenation of $x$ and $\\theta$. \n",
    "\n",
    "$\\text{Dec'}$ works as follows: \n",
    "\n",
    "it takes a secret key $\\text{sk}$ and a ciphertext $\\text{ct}$ as input. We recall in this scheme the ciphertext is an ordered pair $(|x\\rangle_\\theta, \\text{ct'})$. To use the decryption algorithm, we pass in the second argument of the ciphertext $\\text{ct'}$ to the decytyption algorithm $\\text{Dec}$ from the $\\text{PKE}$ scheme along with the secret ket $\\text{sk}$. The output of $\\text{Dec}$ is yet another tuple $(\\theta, b')$. \n",
    "\n",
    "We then measure $|x\\rangle_\\theta$, which is the first argument in the ordered pair of the ciphertext, in the $\\theta$-basis to obtain $x$. That is, we turn the $|x\\rangle_\\theta$, which is in a quantum state to a binary string. We then compute $b = b' \\oplus \\bigoplus\\limits_{i:\\theta_i = 0}x_i$. \n",
    "\n",
    "$\\text{Del}$ is the deletion algorithm, which like $\\text{Dec'}$, takes the ciphertext as an input. However, instead of measuring $|x\\rangle_\\theta$ in $\\theta$-basis, it would measure $|x\\rangle_\\theta$ in the Hadamard basis. We denote the output of the measurement $x'$ and $\\text{Del}$ outputs a certificate $\\text{cert}$, which is assigned to be $x'$. \n",
    "\n",
    "$\\text{Ver}$ is the verification algorithm that takes as input a verification key $\\text{vk}$ which contains an ordered pair $(x, \\theta)$ and a certficate $\\text{cert}=x'$. If $\\theta_i = 1$, then we check if $x_i = x_i'$. If this condition is satified whenever $\\theta_i=1$, then the verification algorithm outputs $\\text{T}$, implying that the certificate has been verified. If there exists at least one $i$, such that $x_i \\neq x_i'$ when $\\theta_i = 1$, then the algorithm returns $\\bot$, which implies that the certificate is not valid. "
   ]
  },
  {
   "cell_type": "markdown",
   "metadata": {},
   "source": [
    "## Intuition behind the security"
   ]
  },
  {
   "cell_type": "markdown",
   "metadata": {},
   "source": [
    "The security of this certified deletion encryption is based on the uncertainty principle. This is a fundamental property of quantum systems, stating that there are measurements that are incompatible. That is, if you measure an observable, you lose information about the measurement result of a different observable. In this case, since we are working with qubit spaces, the two relevant measurements are measurement in the computational and Hadamard bases. The quantum ciphertext is composed of a list of qubits prepared in either the computational or Hadamard bases. In order to decrypt, we need the information encoded in the Hadamard basis qubits, whose measurement destroys the information encoded in the computational basis qubits. Conversely, to certify deletion, we need the information encoded in the computational basis qubits, which makes it impossible to decrypt the message correctly.\n",
    "\n",
    "The compiler structure of the cryptosystem allows the encryption to combine classical security guarantees with the certified deletion encryption provided by quantum uncertainty. In our instantiation, we guarantee public-key encryption, by making use of a post-quantum encryption scheme."
   ]
  },
  {
   "cell_type": "markdown",
   "metadata": {},
   "source": [
    "## Post-quantum Cryptosystem"
   ]
  },
  {
   "cell_type": "markdown",
   "metadata": {},
   "source": [
    "As the scheme suggests, we need to have a post-quantum cryptosystem at our disposal to be able to make use of the scheme. As post-quantum cryptography is an active area of research and is still being refined to this day, we chose to incorporate one of the older post-quantum cryptosystem in our work. Keep in mind that any post-quantum cryptosystem would have been fine, but here we say a few words on the choice of the cryptosystem that we had chosen:\n",
    "\n",
    "Cryptosystem: NTRU\n",
    "\n",
    "This scheme is developed by mathematician Jeffrey Hoffstein, Jill Pipher, and Joseph H. Silverman. The name NTRU, [according to Silverman](https://web.archive.org/web/20010125192900/http://www.brown.edu/Administration/George_Street_Journal/vol25/25GSJ01e.html), stand for \"Number Theorists R Us\".\n",
    "\n",
    "This cryptosystem has been around since 1996, and while it did make it to [the 3rd round of the NIST](https://csrc.nist.gov/Projects/post-quantum-cryptography/post-quantum-cryptography-standardization/round-3-submissions) (National Institute of Standards and Technology) Post-Quantum Cryptography Standardization competition, unfortunately it did not make it to the fourth round. For more information, you can refer to the [Status Report on the Third Round of the\n",
    "NIST Post-Quantum Cryptography\n",
    "Standardization Process](https://nvlpubs.nist.gov/nistpubs/ir/2022/NIST.IR.8413-upd1.pdf). In short, another cryptosystem with similar characteristics, KYBER, has been favoured over NTRU. \n",
    "\n",
    "Having said this, for the purposes of this hackathon, NTRU is a suitable choice. Its implementation is publicly available and lightweight. We were able to incorporte and slightly modify one such [implementation into our work](https://github.com/pointedsphere/NTRU_python). "
   ]
  },
  {
   "cell_type": "markdown",
   "metadata": {},
   "source": [
    "## CD-PKE scheme"
   ]
  },
  {
   "cell_type": "code",
   "execution_count": 1,
   "metadata": {},
   "outputs": [],
   "source": [
    "import numpy as np\n",
    "import matplotlib.pyplot as plt\n",
    "\n",
    "# AWS imports: Import Braket SDK modules\n",
    "# to install the Braket package: pip install amazon-braket-sdk https://pypi.org/project/amazon-braket-sdk/\n",
    "from braket.circuits import Circuit\n",
    "from braket.devices import LocalSimulator\n",
    "\n",
    "import random\n",
    "\n",
    "device = LocalSimulator()"
   ]
  },
  {
   "cell_type": "markdown",
   "metadata": {},
   "source": [
    "We set $\\lambda = 5$ for the purposes of demonstration. In practice, $5$ is considered too small. Since `lambda` is a [Python keyword](https://docs.python.org/3.10/reference/expressions.html#lambda), we will use `lambda_` instead. "
   ]
  },
  {
   "cell_type": "code",
   "execution_count": 2,
   "metadata": {},
   "outputs": [],
   "source": [
    "lambda_ = 5"
   ]
  },
  {
   "cell_type": "code",
   "execution_count": 3,
   "metadata": {},
   "outputs": [],
   "source": [
    "def CD_Encrypt(b):\n",
    "    # The algorithm Enc' from the paper.\n",
    "    # Note that key generation is done within the post-quantum PKE scheme;\n",
    "    # it occurs when 'encrypt' is called.\n",
    "    # lambda_ is the parameter lambda from the paper; the number of qubits which we take\n",
    "    # as lambda = 5 for proof of concept.\n",
    "    \n",
    "    # Input:\n",
    "        # b: the bit to be encrypted\n",
    "    # Output:\n",
    "        # state: quantum ciphertext; a BB84 quantum state\n",
    "        # ct: classical ciphertext; a list of binary ints\n",
    "        # vk: verification key; a list with two sublists of binary ints, one for x and one for theta\n",
    "    \n",
    "    # Conjugate coding / BB84 state preparation\n",
    "\n",
    "    x = random.choices([0,1], k = lambda_)\n",
    "    theta = random.choices([0,1], k = lambda_)\n",
    "    \n",
    "    state = Circuit()\n",
    "    for i in range(len(x)):\n",
    "        if x[i] == 1:\n",
    "            state.x(i)\n",
    "        else:\n",
    "            state.i(i)\n",
    "\n",
    "    for i in range(len(theta)):\n",
    "        if theta[i] == 1:\n",
    "            state.h(i)\n",
    "    \n",
    "    # Hiding the message bit b by XORing\n",
    "\n",
    "    m=b\n",
    "    for i in range(len(theta)):\n",
    "        if theta[i] == 0:\n",
    "            m=(m+x[i]) % 2\n",
    "    \n",
    "    vk = [x,theta]\n",
    "    \n",
    "    # Calling the classical post-quantum PKE as 'encrypt' to encrypt the list\n",
    "    # theta appended with the hidden message bit b\n",
    "    message = theta.copy()\n",
    "    message.append(m)\n",
    "    cipher = encrypt(message)\n",
    "    ct=list(cipher)\n",
    "    for i in range(len(ct)):\n",
    "        ct[i] = int(ct[i])\n",
    "    \n",
    "    return state, ct, vk"
   ]
  },
  {
   "cell_type": "code",
   "execution_count": 4,
   "metadata": {},
   "outputs": [],
   "source": [
    "def CD_Decrypt(state, ct):\n",
    "    # The algorithm Dec' from the paper\n",
    "\n",
    "    # Inputs:\n",
    "    #     state: quantum ciphertext; a BB84 state\n",
    "    #     ct: classical ciphertext; a list of binary ints\n",
    "    # Outputs:\n",
    "    #     b: the encrypted bit\n",
    "    \n",
    "    \n",
    "    # Call the post-quantum classical PKE as 'decrypt' to decrypt\n",
    "    # the classical ciphertext\n",
    "    cipher = ''.join(map(str, ct))\n",
    "    dem = decrypt(cipher)\n",
    "    plain_text = dem[len(dem)-(lambda_+1):]\n",
    "    \n",
    "    # Parse plain_text as (theta, b_prime)\n",
    "    b_prime = plain_text[len(plain_text)-1]\n",
    "    theta = plain_text.copy()\n",
    "    theta.pop()\n",
    "    \n",
    "    # Measure the BB84 state in the theta basis\n",
    "    for i in range(len(theta)):\n",
    "        if theta[i] == 1:\n",
    "            state.h(i)\n",
    "    device = LocalSimulator()\n",
    "    result = device.run(state, shots=1).result()\n",
    "    x = result.measurements.tolist()[0]\n",
    "\n",
    "    # Reveal the message bit b\n",
    "    b = b_prime\n",
    "    for i in range(len(theta)):\n",
    "        if theta[i] == 0:\n",
    "            b=(b+x[i]) % 2\n",
    "    \n",
    "    return b"
   ]
  },
  {
   "cell_type": "code",
   "execution_count": 5,
   "metadata": {},
   "outputs": [],
   "source": [
    "def Delete(state, ct):\n",
    "    # The algorithm Del from the paper\n",
    "\n",
    "    # Input:\n",
    "    #     state: quantum ciphertext; a BB84 state\n",
    "    #     ct: classical ciphertext; a list of binary ints\n",
    "    # Output:\n",
    "    #     cert: deletion certificate; a list of binary ints\n",
    "    \n",
    "    # Measure the BB84 state in the Hadamard basis\n",
    "    for i in range(lambda_):\n",
    "        state.h(i)\n",
    "    result = device.run(state, shots=1).result()\n",
    "    cert = result.measurements.tolist()[0]\n",
    "    \n",
    "    return cert"
   ]
  },
  {
   "cell_type": "code",
   "execution_count": 6,
   "metadata": {},
   "outputs": [],
   "source": [
    "def Verify(vk, cert):\n",
    "    # The algorithm Ver from the paper\n",
    "\n",
    "    # Input:\n",
    "        # vk: a list with two sublists, one for the string x and one for the string theta\n",
    "        # cert: a list of binary ints\n",
    "    # Output:\n",
    "        # True or False\n",
    "    \n",
    "    x = vk[0]\n",
    "    theta = vk[1]\n",
    "    \n",
    "    # Checking if x and cert have the same value at each index where theta has a one\n",
    "    for i in range(len(theta)):\n",
    "        if theta[i] == 1:\n",
    "            if x[i] != cert[i]:\n",
    "                return False\n",
    "    \n",
    "    return True"
   ]
  },
  {
   "cell_type": "markdown",
   "metadata": {},
   "source": [
    "## Small Example"
   ]
  },
  {
   "cell_type": "code",
   "execution_count": 7,
   "metadata": {},
   "outputs": [],
   "source": [
    "%run NTRUpke.ipynb # this invokes the NTRU post-quantum encryption scheme"
   ]
  },
  {
   "cell_type": "markdown",
   "metadata": {},
   "source": [
    "In the NTRU post-quantum encryption scheme, the `keygen()` function generates the public and private keys. The function takes an argument `secarg` which is set to \"-M\" by default. This flag specifies the security level of the generated keys.\n",
    "\n",
    "The generated keys are stored in files named \"key.priv\" and \"key.pub\", which contain the private and public keys respectively. "
   ]
  },
  {
   "cell_type": "code",
   "execution_count": 8,
   "metadata": {},
   "outputs": [],
   "source": [
    "keygen(\"-M\")"
   ]
  },
  {
   "cell_type": "markdown",
   "metadata": {},
   "source": [
    "We will initialize bit `b=0` to demonstrate our implementation:"
   ]
  },
  {
   "cell_type": "code",
   "execution_count": 9,
   "metadata": {},
   "outputs": [],
   "source": [
    "# Initialize b=0\n",
    "b = 0"
   ]
  },
  {
   "cell_type": "markdown",
   "metadata": {},
   "source": [
    "Then we encrypt `b` by running `CD_Encrypt(b)`. This will output quantum states $|x\\rangle_\\theta$ and the encryption of $\\left(\\theta, b \\oplus \\bigoplus_{i:\\theta_i = 0} x_i \\right)$ using the post-quantum encryption scheme and the verification key $\\text{vk}$. "
   ]
  },
  {
   "cell_type": "code",
   "execution_count": 10,
   "metadata": {},
   "outputs": [],
   "source": [
    "state, ct, vk = CD_Encrypt(b)"
   ]
  },
  {
   "cell_type": "code",
   "execution_count": 11,
   "metadata": {},
   "outputs": [
    {
     "name": "stdout",
     "output_type": "stream",
     "text": [
      "T  : |0|1|\n",
      "          \n",
      "q0 : -I-H-\n",
      "          \n",
      "q1 : -I-H-\n",
      "          \n",
      "q2 : -I---\n",
      "          \n",
      "q3 : -I---\n",
      "          \n",
      "q4 : -I-H-\n",
      "\n",
      "T  : |0|1|\n"
     ]
    }
   ],
   "source": [
    "# The quantum ciphertext; a BB84 state\n",
    "print(state)"
   ]
  },
  {
   "cell_type": "code",
   "execution_count": 12,
   "metadata": {},
   "outputs": [
    {
     "name": "stdout",
     "output_type": "stream",
     "text": [
      "[0, 0, 0, 0, 1, 1, 1, 0, 0, 0, 1, 0, 1, 0, 0, 1, 1, 0, 1, 0, 1, 0, 1, 0, 0, 1, 1, 0, 0, 1, 0, 0, 1, 1, 0, 0, 0, 0, 0, 0, 1, 1, 0, 0, 0, 1, 1, 1, 0, 0, 1, 0, 1, 0, 1, 0, 0, 1, 0, 1, 0, 1, 1, 0, 0, 0, 1, 0, 1, 0, 0, 1, 0, 1, 0, 0, 0, 0, 0, 1, 1, 1, 0, 0, 0, 0, 0, 1, 0, 0, 0, 0, 0, 1, 1, 0, 1, 0, 0, 1, 1, 1, 1, 0, 1, 0, 1, 0, 1, 1, 1, 1, 0, 0, 0, 1, 1, 1, 1, 0, 1, 1, 1, 0, 1, 0, 0, 1, 1, 1, 0, 1, 1, 0, 0, 0, 1, 1, 0, 0, 0, 1, 0, 0, 0, 1, 0, 0, 1, 0, 0, 1, 0, 0, 0, 0, 0, 1, 1, 1, 1, 0, 0, 0, 0, 1, 0, 1, 0, 1, 0, 1, 1, 1, 0, 0, 1, 0, 1, 0, 1, 0, 0, 1, 1, 0, 0, 0, 0, 0, 0, 0, 1, 0, 0, 0, 0, 1, 0, 1, 1, 1, 0, 0, 0, 1, 1, 0, 0, 1, 0, 1, 0, 1, 1, 1, 0, 0, 0, 0, 1, 0, 1, 0, 0, 0, 1, 1, 1, 1, 1, 0, 1, 1, 0, 0, 1, 0, 0, 0, 1, 1, 0, 1, 1, 0, 0, 0, 0, 1, 0, 1, 0, 1, 1, 0, 0, 1, 0, 0, 1, 0, 0, 1, 1, 0, 0, 1, 1, 0, 1, 1, 1, 0, 0, 1, 1, 1, 0, 0, 0, 0, 0, 0, 0, 1, 0, 0, 0, 1, 1, 1, 1, 0, 0, 0, 1, 0, 1, 1, 1, 0, 1, 1, 1, 0, 1, 0, 0, 1, 0, 0, 0, 1, 0, 0, 1, 0, 0, 1, 1, 0, 1, 0, 0, 0, 0, 0, 0, 0, 0, 0, 0, 0, 0, 0, 0, 1, 1, 0, 0, 0, 0, 0, 1, 1, 0, 0, 0, 1, 0, 0, 1, 1, 1, 1, 0, 0, 0, 1, 1, 1, 1, 1, 0, 1, 0, 0, 1, 1, 1, 0, 0, 1, 0, 1, 1, 0, 0, 0, 0, 0, 1, 1, 1, 0, 1, 0, 1, 0, 0, 1, 0, 1, 0, 0, 1, 1, 0, 0, 0, 1, 1, 1, 0, 1, 0, 0, 0, 1, 0, 0, 0, 0, 0, 1, 1, 1, 0, 1, 0, 1, 0, 0, 1, 1, 1, 0, 0, 1, 1, 1, 0, 1, 0, 1, 1, 0, 1, 0, 0, 0, 0, 0, 0, 0, 1, 0, 0, 0, 0, 1, 1, 0, 1, 0, 0, 0, 1, 1, 1, 0, 1, 0, 0, 0, 0, 0, 0, 0, 0, 0, 0, 0, 0, 0, 0, 1, 1, 0, 0, 1, 0, 0, 0, 0, 0, 1, 0, 1, 0, 1, 0, 1, 1, 0, 1, 0, 1, 1, 1, 1, 1, 1, 0, 1, 0, 1, 0, 0, 1, 0, 1, 1, 1, 0, 1, 1, 0, 0, 1, 1, 0, 0, 1, 0, 0, 1, 1, 0, 0, 1, 0, 1, 0, 0, 0, 0, 1, 0, 1, 1, 1, 1, 0, 1, 0, 1, 0, 1, 1, 1, 1, 0, 0, 1, 1, 1, 0, 0, 0, 1, 0, 0, 1, 0, 0, 0, 1, 0, 1, 1, 0, 0, 0, 1, 1, 0, 1, 0, 0, 0, 1, 0, 1, 1, 0, 0, 0, 1, 0, 1, 0, 0, 1, 0, 0, 1, 1, 0, 0, 0, 0, 1, 0, 1, 1, 0, 1, 0, 1, 1, 1, 1, 0, 1, 0, 1, 0, 0, 0, 1, 1, 0, 1, 0, 0, 1, 1, 0, 0, 1, 1, 1, 1, 0, 1, 0, 0, 0, 1, 1, 1, 1, 0, 1, 0, 1, 1, 0, 0, 0, 0, 1, 1, 1, 0, 0, 0, 0, 0, 1, 1, 1, 1, 1, 0, 0, 0, 0, 0, 0, 0, 0, 1, 0, 0, 1, 1, 0, 1, 0, 1, 0, 1, 0, 0, 1, 1, 0, 0, 1, 0, 0, 0, 0, 0, 0, 1, 0, 0, 1, 0, 0, 0, 1, 1, 0, 0, 1, 0, 0, 0, 1, 0, 1, 1, 0, 0, 0, 1, 0, 0, 0, 1, 0, 1, 1, 0, 0, 1, 0, 1, 0, 1, 0, 0, 1, 1, 1, 1, 0, 1, 0, 0, 0, 0, 0, 0]\n"
     ]
    }
   ],
   "source": [
    "# The classical ciphertext, coming from the post-quantum PKE scheme\n",
    "print(ct)"
   ]
  },
  {
   "cell_type": "code",
   "execution_count": 13,
   "metadata": {},
   "outputs": [
    {
     "name": "stdout",
     "output_type": "stream",
     "text": [
      "[[0, 0, 0, 0, 0], [1, 1, 0, 0, 1]]\n"
     ]
    }
   ],
   "source": [
    "# The verification key\n",
    "print(vk)"
   ]
  },
  {
   "cell_type": "markdown",
   "metadata": {},
   "source": [
    "As a sanity check, if decrypt the ciphertext, we should get the initial bit `b` back. "
   ]
  },
  {
   "cell_type": "code",
   "execution_count": 14,
   "metadata": {},
   "outputs": [
    {
     "name": "stdout",
     "output_type": "stream",
     "text": [
      "0\n"
     ]
    }
   ],
   "source": [
    "# Decrypt to get back the bit b=0\n",
    "print(CD_Decrypt(state, ct))"
   ]
  },
  {
   "cell_type": "markdown",
   "metadata": {},
   "source": [
    "Note that the order of operation is important here. If we decipher the message, we can no longer provide a valid certificate. Similarly, if the message is deleted first, before deciphering it, then the decipher message will no longer be true. \n",
    "\n",
    "We can verify this observation by the following experiment, where we are changing the order of decryption and deletion. "
   ]
  },
  {
   "cell_type": "code",
   "execution_count": 15,
   "metadata": {},
   "outputs": [
    {
     "name": "stdout",
     "output_type": "stream",
     "text": [
      "[0, 0, 1, 1, 0]\n"
     ]
    }
   ],
   "source": [
    "# We honestly delete the ciphertext to produce a certificate\n",
    "cert = Delete(state, ct)\n",
    "print(cert)"
   ]
  },
  {
   "cell_type": "code",
   "execution_count": 16,
   "metadata": {},
   "outputs": [
    {
     "data": {
      "text/plain": [
       "True"
      ]
     },
     "execution_count": 16,
     "metadata": {},
     "output_type": "execute_result"
    }
   ],
   "source": [
    "### The certificate is accepted\n",
    "Verify(vk, cert)"
   ]
  },
  {
   "cell_type": "markdown",
   "metadata": {},
   "source": [
    "To illustrate the deletion process, we work out the statistics of this kind of experiment. First, we run an experiment where we decrypt first and then attempt to certify the deletion."
   ]
  },
  {
   "cell_type": "code",
   "execution_count": 17,
   "metadata": {},
   "outputs": [
    {
     "data": {
      "text/plain": [
       "Text(0, 0.5, 'Percentage')"
      ]
     },
     "execution_count": 17,
     "metadata": {},
     "output_type": "execute_result"
    },
    {
     "data": {
      "image/png": "[encoded data removed]",
      "text/plain": [
       "<Figure size 432x288 with 1 Axes>"
      ]
     },
     "metadata": {
      "needs_background": "light"
     },
     "output_type": "display_data"
    }
   ],
   "source": [
    "n=100\n",
    "decpass=0\n",
    "certpass=0\n",
    "for i in range(n):\n",
    "    b=random.randint(0,1)\n",
    "    state, ct, vk = CD_Encrypt(b)\n",
    "    bb = CD_Decrypt(state, ct)\n",
    "    # We honestly delete the ciphertext to produce a certificate\n",
    "    decpass += int(b==bb) # Decryption is correct if b == bb\n",
    "    cert = Delete(state, ct)\n",
    "    certpass += int(Verify(vk, cert)) # Certificate is accepted\n",
    "\n",
    "plt.bar([\"Correct decryption\", \"Certificate verified\"], [decpass,certpass])\n",
    "plt.title(\"Decryption First\\nDeletion Second\")\n",
    "plt.ylabel('Percentage')\n",
    "    "
   ]
  },
  {
   "cell_type": "markdown",
   "metadata": {},
   "source": [
    "As expected, the decryption succeeds every time, but the certificate is only rarely verified. By increasing the security parameter $\\lambda$, the percentage of the time that that the certificate is verified can be made arbitrarily small. That is, if the message is decrypted, it is impossible to verify that it has been deleted. Next, we change the order of the deletion and the decryption."
   ]
  },
  {
   "cell_type": "code",
   "execution_count": 18,
   "metadata": {},
   "outputs": [
    {
     "data": {
      "text/plain": [
       "Text(0, 0.5, 'Percentage')"
      ]
     },
     "execution_count": 18,
     "metadata": {},
     "output_type": "execute_result"
    },
    {
     "data": {
      "image/png": "[encoded data removed]",
      "text/plain": [
       "<Figure size 432x288 with 1 Axes>"
      ]
     },
     "metadata": {
      "needs_background": "light"
     },
     "output_type": "display_data"
    }
   ],
   "source": [
    "n=100\n",
    "decpass=0\n",
    "certpass=0\n",
    "for i in range(n):\n",
    "    b=random.randint(0,1)\n",
    "    state, ct, vk = CD_Encrypt(b)\n",
    "    cert = Delete(state, ct)\n",
    "    certpass += int(Verify(vk, cert)) # Certificate is accepted\n",
    "    bb = CD_Decrypt(state, ct)\n",
    "    # We honestly delete the ciphertext to produce a certificate\n",
    "    decpass += int(b==bb) # Decryption is correct if b == bb\n",
    "\n",
    "plt.bar([\"Correct decryption\", \"Certificate verified\"], [decpass,certpass])\n",
    "plt.title(\"Deletion First\\nDecryption Second\")\n",
    "plt.ylabel('Percentage')"
   ]
  },
  {
   "cell_type": "markdown",
   "metadata": {},
   "source": [
    "In this case, the deletion is certified every time, and the decryption is correct half the time. Since the message is a single bit, this means that, once the deletion has been certified, the message that is decrypted is uniformly random. So, the original message has been deleted."
   ]
  },
  {
   "cell_type": "markdown",
   "metadata": {},
   "source": [
    "## Concluding Remarks"
   ]
  },
  {
   "cell_type": "markdown",
   "metadata": {},
   "source": [
    "To conclude, we were able to show that there is a feasible implementation of public key certified-deletion encryption. Since this uses few qubits and no entanglement, it is something that can be run on near-term devices. Further developments to this encryption include introducing error-correction to allow it to be run more effectively on a noisy device; and instantiating it with a homomorphic encryption scheme to allow for computation with the encrypted data."
   ]
  },
  {
   "cell_type": "markdown",
   "metadata": {},
   "source": [
    "## References"
   ]
  },
  {
   "cell_type": "markdown",
   "metadata": {},
   "source": [
    "Bartusek and Khurana. Cryptography with Certified Deletion. 2022. arxiv.org/pdf/2207.01754.pdf\n",
    "\n",
    "Broadbent and Islam. Quantum encryption with certified deletion. In Rafael Pass and Krzysztof Pietrzak, editors, Theory of Cryptography, pages 92–122, Cham, 2020. Springer International Publishing\n",
    "\n",
    "Image Credits:\n",
    "designed by Freepik, Smashicons, monkik, Parzival’ 1997, Pixelmeetup, riajulislam from Flaticon"
   ]
  }
 ],
 "metadata": {
  "@webio": {
   "lastCommId": null,
   "lastKernelId": null
  },
  "kernelspec": {
   "display_name": "Python 3 (ipykernel)",
   "language": "python",
   "name": "python3"
  },
  "language_info": {
   "codemirror_mode": {
    "name": "ipython",
    "version": 3
   },
   "file_extension": ".py",
   "mimetype": "text/x-python",
   "name": "python",
   "nbconvert_exporter": "python",
   "pygments_lexer": "ipython3",
   "version": "3.10.6"
  }
 },
 "nbformat": 4,
 "nbformat_minor": 4
}
